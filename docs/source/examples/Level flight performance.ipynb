{
 "cells": [
  {
   "cell_type": "markdown",
   "metadata": {},
   "source": [
    "In this notebook we will solve a set of interesting problems related to aircraft performance in straight level flight by making use of our **skaero** package together with its performance module."
   ]
  },
  {
   "cell_type": "markdown",
   "metadata": {},
   "source": [
    "### Optimum configuration\n",
    "\n",
    "Consider a propeller-powered aircraftwith wing area S = 10 m2, aspect ratio AR = 6, Oswald factor $e_{0}$ = 0.75, $C_{D0}$ = 0.026 and propeller efficiency $\\eta_{p}$ = 0.75. At 10000 ft and 800 kg mass:\n",
    "\n",
    "    1. Solve for the minimum thrust speed, aerodynamic efficiency and associated thrust and power for previous    conditions."
   ]
  },
  {
   "cell_type": "code",
   "execution_count": 1,
   "metadata": {},
   "outputs": [],
   "source": [
    "# Collect main data for the problem\n",
    "S, AR, e0, Cd0, eta_p, alt, mass = 10.00, 6.00, 0.75, 0.026, 0.75, 10000.00, 800.00"
   ]
  },
  {
   "cell_type": "code",
   "execution_count": 2,
   "metadata": {},
   "outputs": [
    {
     "name": "stdout",
     "output_type": "stream",
     "text": [
      "Density = 0.413\n",
      "Optimum lift = 0.61\n",
      "Aerodynamic efficiency = 11.66\n"
     ]
    }
   ],
   "source": [
    "# Main imports for cruise performance\n",
    "from skaero import u\n",
    "from skaero.atmosphere import coesa\n",
    "from skaero.performance.general import drag_factor\n",
    "from skaero.performance.cruise import Cl_opt, polar_drag\n",
    "\n",
    "# Solving for air density\n",
    "rho = coesa.density(alt)\n",
    "print(f\"Density = {rho:.3f}\")\n",
    "\n",
    "# Solving for air drag factor\n",
    "K = drag_factor(AR, e0)\n",
    "# Solving for the optimum lift coefficient\n",
    "Cl = Cl_opt(Cd0, K)\n",
    "Cd = polar_drag(Cd0, K, Cl)\n",
    "\n",
    "# Solving for aerodynamic efficiency\n",
    "from skaero.performance.cruise import aero_efficiency\n",
    "E_opt = aero_efficiency(Cl, Cd)\n",
    "\n",
    "# Show computed data\n",
    "print(f\"Optimum lift = {Cl:.2f}\")\n",
    "print(f\"Aerodynamic efficiency = {E_opt:.2f}\")"
   ]
  },
  {
   "cell_type": "markdown",
   "metadata": {},
   "source": [
    "In straight flight conditions, it is possible to obtain the following relationship:\n",
    "\n",
    "$E = \\frac{L}{D} = \\frac{W}{T}$\n",
    "\n",
    "Therefore:\n",
    "\n",
    "$T = \\frac{W}{E} = \\frac{m g_{0}}{E}$"
   ]
  },
  {
   "cell_type": "code",
   "execution_count": 3,
   "metadata": {},
   "outputs": [
    {
     "name": "stdout",
     "output_type": "stream",
     "text": [
      "Minimum required thrust: 672.89 meter / second\n"
     ]
    }
   ],
   "source": [
    "# We can relate thrust with the aerodynamic efficiency and weight\n",
    "from skaero.constants import g0\n",
    "T = mass * g0 / E_opt\n",
    "print(f\"Minimum required thrust: {T:.2f}\")"
   ]
  },
  {
   "cell_type": "code",
   "execution_count": null,
   "metadata": {},
   "outputs": [],
   "source": []
  }
 ],
 "metadata": {
  "kernelspec": {
   "display_name": "Python 3",
   "language": "python",
   "name": "python3"
  },
  "language_info": {
   "codemirror_mode": {
    "name": "ipython",
    "version": 3
   },
   "file_extension": ".py",
   "mimetype": "text/x-python",
   "name": "python",
   "nbconvert_exporter": "python",
   "pygments_lexer": "ipython3",
   "version": "3.7.3"
  }
 },
 "nbformat": 4,
 "nbformat_minor": 4
}
